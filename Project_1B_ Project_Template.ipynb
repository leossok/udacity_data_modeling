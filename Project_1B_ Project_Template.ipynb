{
 "cells": [
  {
   "cell_type": "markdown",
   "metadata": {},
   "source": [
    "# Part I. ETL Pipeline for Pre-Processing the Files"
   ]
  },
  {
   "cell_type": "markdown",
   "metadata": {},
   "source": [
    "#### Import Python packages "
   ]
  },
  {
   "cell_type": "code",
   "execution_count": 1,
   "metadata": {},
   "outputs": [],
   "source": [
    "# Import Python packages \n",
    "import pandas as pd\n",
    "import cassandra\n",
    "import re\n",
    "import os\n",
    "import glob\n",
    "import numpy as np\n",
    "import json\n",
    "import csv"
   ]
  },
  {
   "cell_type": "markdown",
   "metadata": {},
   "source": [
    "#### Creating list of filepaths to process original event csv data files"
   ]
  },
  {
   "cell_type": "code",
   "execution_count": 2,
   "metadata": {},
   "outputs": [
    {
     "name": "stdout",
     "output_type": "stream",
     "text": [
      "/home/workspace\n"
     ]
    }
   ],
   "source": [
    "# checking your current working directory\n",
    "print(os.getcwd())\n",
    "\n",
    "# Get your current folder and subfolder event data\n",
    "filepath = os.getcwd() + '/event_data'\n",
    "\n",
    "# Create a for loop to create a list of files and collect each filepath\n",
    "for root, dirs, files in os.walk(filepath):\n",
    "    \n",
    "# join the file path and roots with the subdirectories using glob\n",
    "    file_path_list = glob.glob(os.path.join(root,'*'))\n",
    "    #print(file_path_list)"
   ]
  },
  {
   "cell_type": "markdown",
   "metadata": {},
   "source": [
    "#### Processing the files to create the data file csv that will be used for Apache Casssandra tables <font color=red>event_datafile_new.csv</font>"
   ]
  },
  {
   "cell_type": "code",
   "execution_count": 3,
   "metadata": {},
   "outputs": [
    {
     "name": "stdout",
     "output_type": "stream",
     "text": [
      "6821\n"
     ]
    }
   ],
   "source": [
    "# initiating an empty list of rows that will be generated from each file\n",
    "full_data_rows_list = [] \n",
    "    \n",
    "# for every filepath in the file path list \n",
    "for f in file_path_list:\n",
    "\n",
    "# reading csv file \n",
    "    with open(f, 'r', encoding = 'utf8', newline='') as csvfile: \n",
    "        # creating a csv reader object \n",
    "        csvreader = csv.reader(csvfile) \n",
    "        next(csvreader)\n",
    "        \n",
    " # extracting each data row one by one and append it        \n",
    "        for line in csvreader:\n",
    "            #print(line)\n",
    "            full_data_rows_list.append(line) \n",
    "            \n",
    "# uncomment the code below if you would like to get total number of rows \n",
    "#print(len(full_data_rows_list))\n",
    "# uncomment the code below if you would like to check to see what the list of event data rows will look like\n",
    "#print(full_data_rows_list)\n",
    "\n",
    "# creating a smaller event data csv file called event_datafile_full csv that will be used to insert data into the \\\n",
    "# Apache Cassandra tables\n",
    "csv.register_dialect('myDialect', quoting=csv.QUOTE_ALL, skipinitialspace=True)\n",
    "\n",
    "with open('event_datafile_new.csv', 'w', encoding = 'utf8', newline='') as f:\n",
    "    writer = csv.writer(f, dialect='myDialect')\n",
    "    writer.writerow(['artist','firstName','gender','itemInSession','lastName','length',\\\n",
    "                'level','location','sessionId','song','userId'])\n",
    "    for row in full_data_rows_list:\n",
    "        if (row[0] == ''):\n",
    "            continue\n",
    "        writer.writerow((row[0], row[2], row[3], row[4], row[5], row[6], row[7], row[8], row[12], row[13], row[16]))\n",
    "        \n",
    "# check the number of rows in your csv file\n",
    "with open('event_datafile_new.csv', 'r', encoding = 'utf8') as f:\n",
    "    print(sum(1 for line in f))\n"
   ]
  },
  {
   "cell_type": "markdown",
   "metadata": {},
   "source": [
    "# Part II. Complete the Apache Cassandra coding portion of your project. \n",
    "\n",
    "## Now you are ready to work with the CSV file titled <font color=red>event_datafile_new.csv</font>, located within the Workspace directory.  The event_datafile_new.csv contains the following columns: \n",
    "- artist \n",
    "- firstName of user\n",
    "- gender of user\n",
    "- item number in session\n",
    "- last name of user\n",
    "- length of the song\n",
    "- level (paid or free song)\n",
    "- location of the user\n",
    "- sessionId\n",
    "- song title\n",
    "- userId\n",
    "\n",
    "The image below is a screenshot of what the denormalized data should appear like in the <font color=red>**event_datafile_new.csv**</font> after the code above is run:<br>\n",
    "\n",
    "<img src=\"images/image_event_datafile_new.jpg\">"
   ]
  },
  {
   "cell_type": "markdown",
   "metadata": {},
   "source": [
    "#### Creating a Cluster"
   ]
  },
  {
   "cell_type": "code",
   "execution_count": 4,
   "metadata": {},
   "outputs": [],
   "source": [
    "# This should make a connection to a Cassandra instance your local machine \n",
    "# (127.0.0.1)\n",
    "\n",
    "from cassandra.cluster import Cluster\n",
    "cluster = Cluster()\n",
    "\n",
    "# To establish connection and begin executing queries, need a session\n",
    "session = cluster.connect()"
   ]
  },
  {
   "cell_type": "markdown",
   "metadata": {},
   "source": [
    "#### Create Keyspace"
   ]
  },
  {
   "cell_type": "code",
   "execution_count": 5,
   "metadata": {},
   "outputs": [],
   "source": [
    "# Create a Keyspace\n",
    "try: \n",
    "    session.execute(\"CREATE KEYSPACE IF NOT EXISTS udacity \\\n",
    "                    WITH replication = {'class': 'SimpleStrategy', 'replication_factor': 1}\")\n",
    "except Exception as e:\n",
    "    print('Error at Create Keyspace')\n",
    "    print(e)"
   ]
  },
  {
   "cell_type": "markdown",
   "metadata": {},
   "source": [
    "#### Set Keyspace"
   ]
  },
  {
   "cell_type": "code",
   "execution_count": 6,
   "metadata": {},
   "outputs": [],
   "source": [
    "# Set KEYSPACE to the keyspace specified above\n",
    "session.set_keyspace('udacity')"
   ]
  },
  {
   "cell_type": "markdown",
   "metadata": {},
   "source": [
    "--- \n",
    "## Create queries to ask the following three questions of the data\n",
    "\n",
    "1. Give me the artist, song title and song's length in the music app history that was heard during **sessionId = 338, and itemInSession  = 4**\n",
    "\n",
    "\n",
    "2. Give me only the following: name of artist, song (sorted by itemInSession) and user (first and last name) for **userid = 10, sessionid = 182**\n",
    "    \n",
    "\n",
    "3. Give me every user name (first and last) in my music app history who listened to the **song 'All Hands Against His Own'**\n",
    "---"
   ]
  },
  {
   "cell_type": "markdown",
   "metadata": {},
   "source": [
    "## 1. Give me the artist, song title and song's length in the music app history that was heard during  sessionId = 338, and itemInSession  = 4"
   ]
  },
  {
   "cell_type": "markdown",
   "metadata": {},
   "source": [
    "#### Create table names `song_by_sessions` beacuse this query want to get song information by given `session_id` and `item_in_session`\n",
    "Use `session_id` as partition key and `item_is_session` as clustering key.\n",
    "\n",
    "**Columns names is** (session_id , item_in_session , artist , song , length)"
   ]
  },
  {
   "cell_type": "code",
   "execution_count": 7,
   "metadata": {},
   "outputs": [],
   "source": [
    "# Create denomrlized table\n",
    "try:\n",
    "    # drop if exists\n",
    "    row = session.execute('DROP TABLE IF EXISTS song_by_sessions')\n",
    "    row = session.execute('CREATE TABLE IF NOT EXISTS \\\n",
    "                        song_by_sessions (session_id int, item_in_session int, artist text, song text, length double, \\\n",
    "                          PRIMARY KEY (session_id, item_in_session))')\n",
    "except Exception as e:\n",
    "    print('Error at Create Table')\n",
    "    print(e)        "
   ]
  },
  {
   "cell_type": "markdown",
   "metadata": {},
   "source": [
    "#### Insert data from <font color=red>event_datafile_new.csv</font> into table `song_by_sessions`"
   ]
  },
  {
   "cell_type": "code",
   "execution_count": 8,
   "metadata": {
    "scrolled": false
   },
   "outputs": [
    {
     "name": "stdout",
     "output_type": "stream",
     "text": [
      "Finished Inserting\n"
     ]
    }
   ],
   "source": [
    "# We have provided part of the code to set up the CSV file. Please complete the Apache Cassandra code below#\n",
    "file = 'event_datafile_new.csv'\n",
    "\n",
    "with open(file, encoding = 'utf8') as f:\n",
    "    csvreader = csv.reader(f)\n",
    "    next(csvreader) # skip header\n",
    "    for line in csvreader:\n",
    "        # make inserting query\n",
    "        query = \"INSERT INTO song_by_sessions (session_id, item_in_session, artist, song, length) \"\n",
    "        query = query + \"VALUES (%s, %s, %s, %s, %s)\"\n",
    "        values = (int(line[8]), int(line[3]), line[0], line[9], float(line[5]))\n",
    "        # execute query\n",
    "        session.execute(query, values)\n",
    "print('Finished Inserting')\n",
    " "
   ]
  },
  {
   "cell_type": "markdown",
   "metadata": {},
   "source": [
    "#### Test query by `session_id=338` and `item_in_session=4`\n",
    "Expected output: \n",
    "```\n",
    "Row(session_id=338, item_in_session=4, artist='Faithless', length=495.3073, song='Music Matters (Mark Knight Dub)')\n",
    "```"
   ]
  },
  {
   "cell_type": "code",
   "execution_count": 9,
   "metadata": {
    "scrolled": true
   },
   "outputs": [
    {
     "name": "stdout",
     "output_type": "stream",
     "text": [
      "Row(session_id=338, item_in_session=4, artist='Faithless', length=495.3073, song='Music Matters (Mark Knight Dub)')\n"
     ]
    }
   ],
   "source": [
    "## TO-DO: Add in the SELECT statement to verify the data was entered into the table\n",
    "try:\n",
    "    query_result = session.execute('SELECT * FROM song_by_sessions WHERE session_id=338 and item_in_session=4')\n",
    "\n",
    "except Exception as e:\n",
    "    print('Error at SELECT')\n",
    "    print(e)\n",
    "\n",
    "for row in query_result:\n",
    "    print(row)"
   ]
  },
  {
   "cell_type": "markdown",
   "metadata": {},
   "source": [
    "## 2. Give me only the following: name of artist, song (sorted by itemInSession) and user (first and last name) for userid = 10, sessionid = 182"
   ]
  },
  {
   "cell_type": "markdown",
   "metadata": {},
   "source": [
    "#### Create table names `song_by_user_id_session_id` beacuse this query want to get song information by given `user_id` and `session_id`\n",
    "Use composite partition key of (`user_id`, `session_id`) and use `item_in_session` to make it unique and able to clustering if needed.\n",
    "\n",
    "**Columns names is** (user_id, session_id, item_in_session, artist, song, first_name, last_name)"
   ]
  },
  {
   "cell_type": "code",
   "execution_count": 10,
   "metadata": {},
   "outputs": [],
   "source": [
    "# Create denomrlized table\n",
    "try:\n",
    "    # drop if exists\n",
    "    row = session.execute('DROP TABLE IF EXISTS song_by_user_id_session_id')\n",
    "    row = session.execute('CREATE TABLE IF NOT EXISTS \\\n",
    "                          song_by_user_id_session_id (user_id int, session_id int, item_in_session int, artist text, song text, \\\n",
    "                          first_name text, last_name text, PRIMARY KEY ((user_id, session_id), item_in_session))')\n",
    "except Exception as e:\n",
    "    print('Error at Create Table')\n",
    "    print(e)\n",
    "         "
   ]
  },
  {
   "cell_type": "markdown",
   "metadata": {},
   "source": [
    "#### Insert data from <font color=red>event_datafile_new.csv</font> into table `song_by_user_id_session_id`"
   ]
  },
  {
   "cell_type": "code",
   "execution_count": 11,
   "metadata": {},
   "outputs": [
    {
     "name": "stdout",
     "output_type": "stream",
     "text": [
      "Finished Inserting\n"
     ]
    }
   ],
   "source": [
    "file = 'event_datafile_new.csv'\n",
    "\n",
    "with open(file, encoding = 'utf8') as f:\n",
    "    csvreader = csv.reader(f)\n",
    "    next(csvreader) # skip header\n",
    "    for line in csvreader:\n",
    "        # make inserting query\n",
    "        query = \"INSERT INTO song_by_user_id_session_id (user_id, session_id, item_in_session, artist, song, first_name, last_name) \"\n",
    "        query = query + \"VALUES (%s, %s,%s, %s, %s, %s, %s)\"\n",
    "        values = (int(line[10]), int(line[8]), int(line[3]), line[0], line[9], line[1], line[4])\n",
    "        # execute query\n",
    "        session.execute(query, values)\n",
    "print('Finished Inserting')"
   ]
  },
  {
   "cell_type": "markdown",
   "metadata": {},
   "source": [
    "#### Test query by `user_id=10` and `session_id=182`\n",
    "Expected output: \n",
    "```\n",
    "Row(user_id=10, session_id=182, item_in_session=0, artist='Down To The Bone', first_name='Sylvie', last_name='Cruz', song=\"Keep On Keepin' On\")\n",
    "Row(user_id=10, session_id=182, item_in_session=1, artist='Three Drives', first_name='Sylvie', last_name='Cruz', song='Greece 2000')\n",
    "Row(user_id=10, session_id=182, item_in_session=2, artist='Sebastien Tellier', first_name='Sylvie', last_name='Cruz', song='Kilometer')\n",
    "Row(user_id=10, session_id=182, item_in_session=3, artist='Lonnie Gordon', first_name='Sylvie', last_name='Cruz', song='Catch You Baby (Steve Pitron & Max Sanna Radio Edit)')\n",
    "```"
   ]
  },
  {
   "cell_type": "code",
   "execution_count": 12,
   "metadata": {},
   "outputs": [
    {
     "name": "stdout",
     "output_type": "stream",
     "text": [
      "Row(user_id=10, session_id=182, item_in_session=0, artist='Down To The Bone', first_name='Sylvie', last_name='Cruz', song=\"Keep On Keepin' On\")\n",
      "Row(user_id=10, session_id=182, item_in_session=1, artist='Three Drives', first_name='Sylvie', last_name='Cruz', song='Greece 2000')\n",
      "Row(user_id=10, session_id=182, item_in_session=2, artist='Sebastien Tellier', first_name='Sylvie', last_name='Cruz', song='Kilometer')\n",
      "Row(user_id=10, session_id=182, item_in_session=3, artist='Lonnie Gordon', first_name='Sylvie', last_name='Cruz', song='Catch You Baby (Steve Pitron & Max Sanna Radio Edit)')\n"
     ]
    }
   ],
   "source": [
    "try:\n",
    "    query_result = session.execute('SELECT * FROM song_by_user_id_session_id WHERE user_id=10 and session_id=182')\n",
    "\n",
    "except Exception as e:\n",
    "    print('Error at SELECT')\n",
    "    print(e)\n",
    "\n",
    "for row in query_result:\n",
    "    print(row)"
   ]
  },
  {
   "cell_type": "markdown",
   "metadata": {},
   "source": [
    "## 3. Give me every user name (first and last) in my music app history who listened to the song 'All Hands Against His Own'"
   ]
  },
  {
   "cell_type": "markdown",
   "metadata": {},
   "source": [
    "#### Create table names `listened_user_by_song` beacuse this query want to get listened information by given `song` name\n",
    "#### We need to add column `user_id` and use it as clustering key to make the row unique. We can't use `first_name` and `last_name` because it can be duplicated name.\n",
    "\n",
    "**Columns names is** (user_id, session_id, item_in_session, artist, song, first_name, last_name)"
   ]
  },
  {
   "cell_type": "code",
   "execution_count": 13,
   "metadata": {},
   "outputs": [],
   "source": [
    "# Create denomrlized table\n",
    "try:\n",
    "    # drop if exists\n",
    "    row = session.execute('DROP TABLE IF EXISTS listened_user_by_song')\n",
    "    row = session.execute('CREATE TABLE IF NOT EXISTS \\\n",
    "                          listened_user_by_song (song text, user_id int, first_name text, last_name text, \\\n",
    "                          PRIMARY KEY (song, user_id))')\n",
    "except Exception as e:\n",
    "    print('Error at Create Table')\n",
    "    print(e)\n",
    "                    "
   ]
  },
  {
   "cell_type": "markdown",
   "metadata": {},
   "source": [
    "#### Insert data from <font color=red>event_datafile_new.csv</font> into table `song_by_user_id_session_id`"
   ]
  },
  {
   "cell_type": "code",
   "execution_count": null,
   "metadata": {},
   "outputs": [],
   "source": [
    "file = 'event_datafile_new.csv'\n",
    "\n",
    "with open(file, encoding = 'utf8') as f:\n",
    "    csvreader = csv.reader(f)\n",
    "    next(csvreader) # skip header\n",
    "    for line in csvreader:\n",
    "        # make inserting query\n",
    "        query = \"INSERT INTO listened_user_by_song (song, user_id, first_name, last_name) \"\n",
    "        query = query + \"VALUES (%s, %s, %s, %s)\"\n",
    "        values = (line[9], int(line[10]), line[1], line[4])\n",
    "        # execute query\n",
    "        session.execute(query, values)\n",
    "print('Finished Inserting')"
   ]
  },
  {
   "cell_type": "markdown",
   "metadata": {},
   "source": [
    "#### Test query by `song='All Hands Against His Own'`\n",
    "Expected output: \n",
    "```\n",
    "Row(song='All Hands Against His Own', user_id=29, first_name='Jacqueline', last_name='Lynch')\n",
    "Row(song='All Hands Against His Own', user_id=80, first_name='Tegan', last_name='Levine')\n",
    "Row(song='All Hands Against His Own', user_id=95, first_name='Sara', last_name='Johnson')\n",
    "```"
   ]
  },
  {
   "cell_type": "code",
   "execution_count": null,
   "metadata": {},
   "outputs": [],
   "source": [
    "try:\n",
    "    query_result = session.execute(\"SELECT * FROM listened_user_by_song WHERE song='All Hands Against His Own'\")\n",
    "\n",
    "except Exception as e:\n",
    "    print('Error at SELECT')\n",
    "    print(e)\n",
    "\n",
    "for row in query_result:\n",
    "    print(row)"
   ]
  },
  {
   "cell_type": "markdown",
   "metadata": {},
   "source": [
    "---\n",
    "#### Drop the tables before closing out the sessions"
   ]
  },
  {
   "cell_type": "code",
   "execution_count": null,
   "metadata": {},
   "outputs": [],
   "source": [
    "try:\n",
    "    session.execute('DROP TABLE IF EXISTS song_by_sessions')\n",
    "except Exception as e:\n",
    "    print(e)\n",
    "try:\n",
    "    session.execute('DROP TABLE IF EXISTS song_by_user_id_session_id')\n",
    "except Exception as e:\n",
    "    print(e)\n",
    "try:\n",
    "    session.execute('DROP TABLE IF EXISTS listened_user_by_song')\n",
    "except Exception as e:\n",
    "    print(e)\n"
   ]
  },
  {
   "cell_type": "markdown",
   "metadata": {},
   "source": [
    "#### Close the session and cluster connection¶"
   ]
  },
  {
   "cell_type": "code",
   "execution_count": null,
   "metadata": {},
   "outputs": [],
   "source": [
    "session.shutdown()\n",
    "cluster.shutdown()"
   ]
  },
  {
   "cell_type": "code",
   "execution_count": null,
   "metadata": {},
   "outputs": [],
   "source": []
  }
 ],
 "metadata": {
  "kernelspec": {
   "display_name": "Python 3",
   "language": "python",
   "name": "python3"
  },
  "language_info": {
   "codemirror_mode": {
    "name": "ipython",
    "version": 3
   },
   "file_extension": ".py",
   "mimetype": "text/x-python",
   "name": "python",
   "nbconvert_exporter": "python",
   "pygments_lexer": "ipython3",
   "version": "3.6.3"
  }
 },
 "nbformat": 4,
 "nbformat_minor": 2
}
